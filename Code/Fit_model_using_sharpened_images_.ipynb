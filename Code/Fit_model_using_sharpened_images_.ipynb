{
  "nbformat": 4,
  "nbformat_minor": 0,
  "metadata": {
    "colab": {
      "name": "Fit_model_using_sharpened_images .ipynb",
      "provenance": [],
      "collapsed_sections": []
    },
    "kernelspec": {
      "name": "python3",
      "display_name": "Python 3"
    }
  },
  "cells": [
    {
      "cell_type": "code",
      "metadata": {
        "colab": {
          "base_uri": "https://localhost:8080/"
        },
        "id": "idYGMhOe5JqN",
        "outputId": "9c783e08-dd82-4fe9-d0f7-9262b389759a"
      },
      "source": [
        "#Load and Pickle the dataset\r\n",
        "import pandas as pd\r\n",
        "import numpy as np\r\n",
        "import tensorflow as tf\r\n",
        "from sklearn.model_selection import train_test_split\r\n",
        "import matplotlib.pyplot as plt\r\n",
        "import keras.backend as K\r\n",
        "import plotly.express as px\r\n",
        "import os\r\n",
        "import cv2\r\n",
        "from google.colab import drive\r\n",
        "drive.mount('/content/drive')"
      ],
      "execution_count": 1,
      "outputs": [
        {
          "output_type": "stream",
          "text": [
            "Mounted at /content/drive\n"
          ],
          "name": "stdout"
        }
      ]
    },
    {
      "cell_type": "code",
      "metadata": {
        "id": "sIH4onSK6IRP"
      },
      "source": [
        "IMAGE_SIZE = (224,224)\r\n",
        "AUTOTUNE = tf.data.experimental.AUTOTUNE"
      ],
      "execution_count": 3,
      "outputs": []
    },
    {
      "cell_type": "code",
      "metadata": {
        "id": "3ejvy8tr6K_5"
      },
      "source": [
        "files = tf.io.gfile.glob(r\"/content/drive/Shareddrives/Covid Recognition Practicum/COVID-19 Radiography Database/COVID/*\")\r\n",
        "files.extend(tf.io.gfile.glob(r\"/content/drive/Shareddrives/Covid Recognition Practicum/COVID-19 Radiography Database/NORMAL/*\"))\r\n",
        "files.extend(tf.io.gfile.glob(r\"/content/drive/Shareddrives/Covid Recognition Practicum/COVID-19 Radiography Database/Viral Pneumonia/*\"))"
      ],
      "execution_count": 4,
      "outputs": []
    },
    {
      "cell_type": "code",
      "metadata": {
        "id": "br3AblrE-b70"
      },
      "source": [
        "'''\r\n",
        "import cv2 as cv\r\n",
        "import numpy as np\r\n",
        "\r\n",
        "def unsharp_mask(image, kernel_size=(5, 5), sigma=1.0, amount=1.0, threshold=0):\r\n",
        "  \"\"\"Return a sharpened version of the image, using an unsharp mask.\"\"\"\r\n",
        "  #image = np.array(image)\r\n",
        "  blurred = cv.GaussianBlur(image, kernel_size, sigma)\r\n",
        "  sharpened = float(amount + 1) * image - float(amount) * blurred\r\n",
        "  sharpened = np.maximum(sharpened, np.zeros(sharpened.shape))\r\n",
        "  sharpened = np.minimum(sharpened, 255 * np.ones(sharpened.shape))\r\n",
        "  sharpened = sharpened.round().astype(np.uint8)\r\n",
        "  if threshold > 0:\r\n",
        "    low_contrast_mask = np.absolute(image - blurred) < threshold\r\n",
        "    np.copyto(sharpened, image, where=low_contrast_mask)\r\n",
        "  return sharpened\r\n",
        "'''"
      ],
      "execution_count": null,
      "outputs": []
    },
    {
      "cell_type": "code",
      "metadata": {
        "id": "mupYsENbHG_M"
      },
      "source": [
        "'''\r\n",
        "import glob\r\n",
        "rfiles = glob.glob(r\"/content/drive/Shareddrives/Covid Recognition Practicum/COVID-19 Radiography Database/COVID 19/*\")\r\n",
        "rfiles.extend(glob.glob(r\"/content/drive/Shareddrives/Covid Recognition Practicum/COVID-19 Radiography Database/NORMAL/*\"))\r\n",
        "rfiles.extend(glob.glob(r\"/content/drive/Shareddrives/Covid Recognition Practicum/COVID-19 Radiography Database/Viral Pneumonia/*\"))\r\n",
        "'''"
      ],
      "execution_count": null,
      "outputs": []
    },
    {
      "cell_type": "code",
      "metadata": {
        "colab": {
          "base_uri": "https://localhost:8080/"
        },
        "id": "D1Wx3_IChUKa",
        "outputId": "d56d99d2-15a9-4be3-82bd-3dc66fb00a60"
      },
      "source": [
        "'''\r\n",
        "len(rfiles)\r\n",
        "'''"
      ],
      "execution_count": null,
      "outputs": [
        {
          "output_type": "execute_result",
          "data": {
            "text/plain": [
              "3896"
            ]
          },
          "metadata": {
            "tags": []
          },
          "execution_count": 30
        }
      ]
    },
    {
      "cell_type": "code",
      "metadata": {
        "id": "tY6MatAnsZIU"
      },
      "source": [
        "'''\r\n",
        "for img in rfiles:\r\n",
        "  n = cv2.imread(img)\r\n",
        "  sharpened_image = unsharp_mask(n)\r\n",
        "  name = \"en\"+img.split('/')[-1]\r\n",
        "  path = \"/content/drive/Shareddrives/Covid Recognition Practicum/enhanced_images/\"+name\r\n",
        "  cv.imwrite(path, sharpened_image)\r\n",
        "'''"
      ],
      "execution_count": null,
      "outputs": []
    },
    {
      "cell_type": "code",
      "metadata": {
        "id": "h4egxt12_N7p"
      },
      "source": [
        "newfiles = tf.io.gfile.glob(r\"/content/drive/Shareddrives/Covid Recognition Practicum/enhanced_images/*\")"
      ],
      "execution_count": 5,
      "outputs": []
    },
    {
      "cell_type": "code",
      "metadata": {
        "colab": {
          "base_uri": "https://localhost:8080/"
        },
        "id": "6Q-YI4Yv_hUH",
        "outputId": "8d02d904-46a8-48b5-8dcd-99874b86d9ef"
      },
      "source": [
        "len(newfiles)"
      ],
      "execution_count": 6,
      "outputs": [
        {
          "output_type": "execute_result",
          "data": {
            "text/plain": [
              "3896"
            ]
          },
          "metadata": {
            "tags": []
          },
          "execution_count": 6
        }
      ]
    },
    {
      "cell_type": "code",
      "metadata": {
        "colab": {
          "base_uri": "https://localhost:8080/"
        },
        "id": "kudjbZBvCsli",
        "outputId": "e6093c1a-052c-4fda-c842-de56c54cfdb4"
      },
      "source": [
        "train_files, test_files = train_test_split(newfiles, test_size=0.1, random_state=42)\r\n",
        "train_files, val_files = train_test_split(train_files, test_size=0.2, random_state=42)\r\n",
        "\r\n",
        "train_normal_count = len([file for file in train_files if 'NORMAL' in file])\r\n",
        "train_covid_count = len([file for file in train_files if 'COVID' in file])\r\n",
        "train_pneumonia_count = len([file for file in train_files if 'Viral Pneumonia' in file])\r\n",
        "\r\n",
        "print(train_normal_count, train_covid_count, train_pneumonia_count)\r\n",
        "\r\n",
        "train_dataset = tf.data.Dataset.from_tensor_slices(train_files)\r\n",
        "val_dataset = tf.data.Dataset.from_tensor_slices(val_files)\r\n",
        "test_dataset = tf.data.Dataset.from_tensor_slices(test_files)\r\n",
        "\r\n",
        "TRAIN_SIZE = tf.data.experimental.cardinality(train_dataset).numpy()\r\n",
        "VAL_SIZE = tf.data.experimental.cardinality(val_dataset).numpy()\r\n",
        "TEST_SIZE = tf.data.experimental.cardinality(test_dataset).numpy()\r\n",
        "\r\n",
        "TRAIN_SIZE, VAL_SIZE, TEST_SIZE"
      ],
      "execution_count": 7,
      "outputs": [
        {
          "output_type": "stream",
          "text": [
            "950 875 979\n"
          ],
          "name": "stdout"
        },
        {
          "output_type": "execute_result",
          "data": {
            "text/plain": [
              "(2804, 702, 390)"
            ]
          },
          "metadata": {
            "tags": []
          },
          "execution_count": 7
        }
      ]
    },
    {
      "cell_type": "code",
      "metadata": {
        "id": "WWJX75tlC_Rg"
      },
      "source": [
        "def get_targets(file):\r\n",
        "    split = tf.strings.split(file, os.path.sep)\r\n",
        "    if split[-2] == 'COVID 19':\r\n",
        "        return 0\r\n",
        "    elif split[-2] == 'Viral Pneumonia':\r\n",
        "        return 2\r\n",
        "    else: return 1\r\n",
        "\r\n",
        "def preprocess_img(file):\r\n",
        "    target = get_targets(file)\r\n",
        "    img = tf.io.read_file(file)\r\n",
        "    img = tf.image.decode_png(img, channels=3)\r\n",
        "    img = tf.image.convert_image_dtype(img, tf.float32)\r\n",
        "    img = tf.image.resize(img, IMAGE_SIZE)\r\n",
        "    return img, target\r\n",
        "\r\n",
        "train_data = train_dataset.map(preprocess_img)\r\n",
        "val_data = val_dataset.map(preprocess_img)\r\n",
        "\r\n",
        "BATCH_SIZE = 32\r\n",
        "test_data = test_dataset.map(preprocess_img)\r\n",
        "test_data = test_data.batch(BATCH_SIZE)\r\n",
        "\r\n",
        "def preprocessing(dataset, buffer_size=650):\r\n",
        "    dataset = dataset.shuffle(buffer_size=buffer_size).repeat()\r\n",
        "    dataset = dataset.batch(BATCH_SIZE).prefetch(buffer_size=AUTOTUNE)\r\n",
        "    return dataset\r\n",
        "\r\n",
        "train_set = preprocessing(train_data)\r\n",
        "val_set = preprocessing(val_data)\r\n",
        "\r\n",
        "def visualize_samples(images, targets):\r\n",
        "    plt.figure(figsize=(12,8))\r\n",
        "    for n in range(16):\r\n",
        "        sub = plt.subplot(4,4,n+1)\r\n",
        "        plt.imshow(images[n])\r\n",
        "        if targets[n] == 0:\r\n",
        "            plt.title(\"COVID\")\r\n",
        "        elif targets[n] == 1:\r\n",
        "            plt.title(\"PNEUMONIA\")\r\n",
        "        else:plt.title(\"NORMAL\")\r\n",
        "        plt.axis(\"off\")\r\n",
        "\r\n",
        "def conv_block(filters):\r\n",
        "    block = tf.keras.Sequential([\r\n",
        "        tf.keras.layers.SeparableConv2D(filters, 3, activation='relu', padding='same'),\r\n",
        "        tf.keras.layers.SeparableConv2D(filters, 3, activation='relu', padding='same'),\r\n",
        "        tf.keras.layers.BatchNormalization(),\r\n",
        "        tf.keras.layers.MaxPool2D()\r\n",
        "    ]\r\n",
        "    )\r\n",
        "    return block\r\n",
        "def dense_block(units, dropout_rate):\r\n",
        "    block = tf.keras.Sequential([\r\n",
        "        tf.keras.layers.Dense(units, activation='relu'),\r\n",
        "        tf.keras.layers.BatchNormalization(),\r\n",
        "        tf.keras.layers.Dropout(dropout_rate)\r\n",
        "    ])\r\n",
        "    return block"
      ],
      "execution_count": 10,
      "outputs": []
    },
    {
      "cell_type": "code",
      "metadata": {
        "id": "hP81CJ1EADJr"
      },
      "source": [
        "def build_model():\r\n",
        "    model = tf.keras.Sequential([\r\n",
        "        tf.keras.Input(shape=(IMAGE_SIZE[0], IMAGE_SIZE[1], 3)),\r\n",
        "        \r\n",
        "        tf.keras.layers.Conv2D(64, 7, activation='relu', padding='same'),\r\n",
        "        tf.keras.layers.MaxPool2D(),\r\n",
        "        \r\n",
        "        conv_block(128),\r\n",
        "        conv_block(256),\r\n",
        "        tf.keras.layers.Dropout(rate=0.5),\r\n",
        "        \r\n",
        "        conv_block(256),\r\n",
        "        tf.keras.layers.Dropout(0.4),\r\n",
        "        \r\n",
        "        tf.keras.layers.Flatten(),\r\n",
        "        dense_block(128, 0.5),\r\n",
        "        dense_block(64, 0.5),\r\n",
        "       \r\n",
        "        tf.keras.layers.Dense(3, activation='softmax')\r\n",
        "    ])\r\n",
        "    \r\n",
        "    return model"
      ],
      "execution_count": 11,
      "outputs": []
    },
    {
      "cell_type": "code",
      "metadata": {
        "id": "mOGe3VgNAI40"
      },
      "source": [
        "model = build_model()\r\n",
        "\r\n",
        "METRICS = ['accuracy']\r\n",
        "\r\n",
        "opt = tf.keras.optimizers.Adam(learning_rate=0.0006)\r\n",
        "    \r\n",
        "model.compile(optimizer= opt, loss='sparse_categorical_crossentropy', metrics=METRICS)"
      ],
      "execution_count": 12,
      "outputs": []
    },
    {
      "cell_type": "code",
      "metadata": {
        "colab": {
          "base_uri": "https://localhost:8080/"
        },
        "id": "7nxfh8AdANC6",
        "outputId": "b103154d-78bc-4749-8ed3-6ee20b19c68a"
      },
      "source": [
        "model.summary()"
      ],
      "execution_count": 13,
      "outputs": [
        {
          "output_type": "stream",
          "text": [
            "Model: \"sequential_5\"\n",
            "_________________________________________________________________\n",
            "Layer (type)                 Output Shape              Param #   \n",
            "=================================================================\n",
            "conv2d (Conv2D)              (None, 224, 224, 64)      9472      \n",
            "_________________________________________________________________\n",
            "max_pooling2d (MaxPooling2D) (None, 112, 112, 64)      0         \n",
            "_________________________________________________________________\n",
            "sequential (Sequential)      (None, 56, 56, 128)       27072     \n",
            "_________________________________________________________________\n",
            "sequential_1 (Sequential)    (None, 28, 28, 256)       103296    \n",
            "_________________________________________________________________\n",
            "dropout (Dropout)            (None, 28, 28, 256)       0         \n",
            "_________________________________________________________________\n",
            "sequential_2 (Sequential)    (None, 14, 14, 256)       137216    \n",
            "_________________________________________________________________\n",
            "dropout_1 (Dropout)          (None, 14, 14, 256)       0         \n",
            "_________________________________________________________________\n",
            "flatten (Flatten)            (None, 50176)             0         \n",
            "_________________________________________________________________\n",
            "sequential_3 (Sequential)    (None, 128)               6423168   \n",
            "_________________________________________________________________\n",
            "sequential_4 (Sequential)    (None, 64)                8512      \n",
            "_________________________________________________________________\n",
            "dense_2 (Dense)              (None, 3)                 195       \n",
            "=================================================================\n",
            "Total params: 6,708,931\n",
            "Trainable params: 6,707,267\n",
            "Non-trainable params: 1,664\n",
            "_________________________________________________________________\n"
          ],
          "name": "stdout"
        }
      ]
    },
    {
      "cell_type": "code",
      "metadata": {
        "id": "DbMca25LASD2"
      },
      "source": [
        "#/content/drive/Shareddrives/Covid Recognition Practicum/models\r\n",
        "#/content/drive/Shareddrives/Covid Recognition Practicum\r\n",
        "checkpoint = tf.keras.callbacks.ModelCheckpoint(\"/content/drive/Shareddrives/Covid Recognition Practicum/models/ecovid_model_new.h5\",save_best_only=True)\r\n",
        "early_stopping = tf.keras.callbacks.EarlyStopping(patience=5, restore_best_weights=True)\r\n",
        "lr_scheduler = tf.keras.callbacks.ReduceLROnPlateau(factor=0.2, patience=10, mode='min', min_lr=1E-5)"
      ],
      "execution_count": 14,
      "outputs": []
    },
    {
      "cell_type": "code",
      "metadata": {
        "colab": {
          "base_uri": "https://localhost:8080/"
        },
        "id": "ZuPskK6OAW84",
        "outputId": "54bddf90-b6dd-4480-a19e-b6b508fd4aa7"
      },
      "source": [
        "EPOCHS = 10\r\n",
        "history = model.fit(\r\n",
        "    train_set,\r\n",
        "    steps_per_epoch = TRAIN_SIZE // BATCH_SIZE,\r\n",
        "    epochs = EPOCHS,\r\n",
        "    validation_data = val_set,\r\n",
        "    validation_steps = VAL_SIZE // BATCH_SIZE,\r\n",
        "    callbacks=[checkpoint]\r\n",
        ")"
      ],
      "execution_count": 15,
      "outputs": [
        {
          "output_type": "stream",
          "text": [
            "Epoch 1/10\n",
            "87/87 [==============================] - 2277s 22s/step - loss: 1.5673 - accuracy: 0.3672 - val_loss: 0.7624 - val_accuracy: 1.0000\n",
            "Epoch 2/10\n",
            "87/87 [==============================] - 919s 11s/step - loss: 1.1759 - accuracy: 0.4892 - val_loss: 0.4593 - val_accuracy: 1.0000\n",
            "Epoch 3/10\n",
            "87/87 [==============================] - 928s 11s/step - loss: 0.8031 - accuracy: 0.6596 - val_loss: 0.2975 - val_accuracy: 1.0000\n",
            "Epoch 4/10\n",
            "87/87 [==============================] - 938s 11s/step - loss: 0.5962 - accuracy: 0.7871 - val_loss: 0.1484 - val_accuracy: 1.0000\n",
            "Epoch 5/10\n",
            "87/87 [==============================] - 930s 11s/step - loss: 0.3802 - accuracy: 0.8974 - val_loss: 0.0785 - val_accuracy: 1.0000\n",
            "Epoch 6/10\n",
            "87/87 [==============================] - 941s 11s/step - loss: 0.2609 - accuracy: 0.9393 - val_loss: 0.0423 - val_accuracy: 1.0000\n",
            "Epoch 7/10\n",
            "87/87 [==============================] - 935s 11s/step - loss: 0.1575 - accuracy: 0.9772 - val_loss: 0.0436 - val_accuracy: 1.0000\n",
            "Epoch 8/10\n",
            "87/87 [==============================] - 939s 11s/step - loss: 0.1151 - accuracy: 0.9807 - val_loss: 0.0108 - val_accuracy: 1.0000\n",
            "Epoch 9/10\n",
            "87/87 [==============================] - 936s 11s/step - loss: 0.0769 - accuracy: 0.9922 - val_loss: 0.0303 - val_accuracy: 1.0000\n",
            "Epoch 10/10\n",
            "87/87 [==============================] - 939s 11s/step - loss: 0.0663 - accuracy: 0.9897 - val_loss: 0.0094 - val_accuracy: 1.0000\n"
          ],
          "name": "stdout"
        }
      ]
    },
    {
      "cell_type": "code",
      "metadata": {
        "colab": {
          "base_uri": "https://localhost:8080/",
          "height": 312
        },
        "id": "ptDAsPwjwv1q",
        "outputId": "d3efab06-550a-44dc-a921-3bd87168e920"
      },
      "source": [
        "plt.plot(history.history['accuracy'])\r\n",
        "plt.plot(history.history['val_accuracy'])\r\n",
        "plt.title('Training and validtation Accuracy')\r\n",
        "plt.ylabel('Accuracy')\r\n",
        "plt.xlabel('Epoch')\r\n",
        "plt.legend(['Training', 'Validation'])"
      ],
      "execution_count": 16,
      "outputs": [
        {
          "output_type": "execute_result",
          "data": {
            "text/plain": [
              "<matplotlib.legend.Legend at 0x7fcabe6e8750>"
            ]
          },
          "metadata": {
            "tags": []
          },
          "execution_count": 16
        },
        {
          "output_type": "display_data",
          "data": {
            "image/png": "[encoded data removed]",
            "text/plain": [
              "<Figure size 432x288 with 1 Axes>"
            ]
          },
          "metadata": {
            "tags": [],
            "needs_background": "light"
          }
        }
      ]
    }
  ]
}